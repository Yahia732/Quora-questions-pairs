{
  "nbformat": 4,
  "nbformat_minor": 0,
  "metadata": {
    "colab": {
      "provenance": [],
      "include_colab_link": true
    },
    "kernelspec": {
      "name": "python3",
      "display_name": "Python 3"
    },
    "language_info": {
      "name": "python"
    }
  },
  "cells": [
    {
      "cell_type": "markdown",
      "metadata": {
        "id": "view-in-github",
        "colab_type": "text"
      },
      "source": [
        "<a href=\"https://colab.research.google.com/github/Yahia732/Quora-questions-pairs/blob/master/NLP_final.ipynb\" target=\"_parent\"><img src=\"https://colab.research.google.com/assets/colab-badge.svg\" alt=\"Open In Colab\"/></a>"
      ]
    },
    {
      "cell_type": "code",
      "source": [
        "import pandas as pd"
      ],
      "metadata": {
        "id": "5pCycYCOksx9"
      },
      "execution_count": null,
      "outputs": []
    },
    {
      "cell_type": "code",
      "source": [
        "data=pd.read_csv('train.csv')\n",
        "data = data.dropna(how=\"any\").reset_index(drop=True)"
      ],
      "metadata": {
        "id": "70W9I-FrmFYp"
      },
      "execution_count": null,
      "outputs": []
    },
    {
      "cell_type": "code",
      "source": [
        "import gensim\n",
        "!pip install fuzzywuzzy\n",
        "from fuzzywuzzy import fuzz\n",
        "from nltk.corpus import stopwords\n",
        "from tqdm import tqdm_notebook\n",
        "import nltk\n",
        "from nltk import word_tokenize\n",
        "import seaborn as sns\n",
        "import matplotlib.pyplot as plt\n",
        "nltk.download('stopwords')\n",
        "stop_words = stopwords.words('english')\n",
        "from sklearn.model_selection import train_test_split\n",
        "from sklearn.preprocessing import StandardScaler\n",
        "from sklearn import metrics\n",
        "from sklearn.linear_model import LogisticRegression\n",
        "from sklearn.naive_bayes import GaussianNB\n",
        "from sklearn.tree import DecisionTreeClassifier\n",
        "from xgboost import XGBClassifier"
      ],
      "metadata": {
        "colab": {
          "base_uri": "https://localhost:8080/"
        },
        "id": "icPVwTTImhv5",
        "outputId": "4fa695fc-01a7-43a5-d37e-47d6fbfc8ee3"
      },
      "execution_count": null,
      "outputs": [
        {
          "output_type": "stream",
          "name": "stdout",
          "text": [
            "Looking in indexes: https://pypi.org/simple, https://us-python.pkg.dev/colab-wheels/public/simple/\n",
            "Requirement already satisfied: fuzzywuzzy in /usr/local/lib/python3.7/dist-packages (0.18.0)\n",
            "[nltk_data] Downloading package stopwords to /root/nltk_data...\n",
            "[nltk_data]   Package stopwords is already up-to-date!\n"
          ]
        }
      ]
    },
    {
      "cell_type": "code",
      "source": [
        "fig = plt.figure(figsize = (10, 5))\n",
        "data['is_duplicate'].value_counts().plot(kind='bar') \n",
        "plt.xlabel(\"is duplicate\")\n",
        "plt.show()"
      ],
      "metadata": {
        "colab": {
          "base_uri": "https://localhost:8080/",
          "height": 330
        },
        "id": "-JmD2_euWRtX",
        "outputId": "1c146128-918f-489b-ba12-9276687a7dfa"
      },
      "execution_count": null,
      "outputs": [
        {
          "output_type": "display_data",
          "data": {
            "text/plain": [
              "<Figure size 720x360 with 1 Axes>"
            ],
            "image/png": "[encoded data removed]"
          },
          "metadata": {
            "needs_background": "light"
          }
        }
      ]
    },
    {
      "cell_type": "code",
      "source": [
        "question1=data['question1']\n",
        "question2=data['question2']\n",
        "\n",
        "data['freq_qid1'] = data.groupby('qid1')['qid1'].transform('count') \n",
        "data['freq_qid2'] = data.groupby('qid2')['qid2'].transform('count')\n",
        "data['q1len'] = data['question1'].str.len() \n",
        "data['q2len'] = data['question2'].str.len()\n",
        "data['q1_n_words'] = data['question1'].apply(lambda row: len(row.split(\" \")))\n",
        "data['q2_n_words'] = data['question2'].apply(lambda row: len(row.split(\" \")))\n",
        "def normalized_word_Common(row):\n",
        "        w1 = set(map(lambda word: word.lower().strip(), row['question1'].split(\" \")))\n",
        "        w2 = set(map(lambda word: word.lower().strip(), row['question2'].split(\" \")))    \n",
        "        return 1.0 * len(w1 & w2)\n",
        "data['word_Common'] = data.apply(normalized_word_Common, axis=1)\n",
        "\n",
        "def normalized_word_Total(row):\n",
        "        w1 = set(map(lambda word: word.lower().strip(), row['question1'].split(\" \")))\n",
        "        w2 = set(map(lambda word: word.lower().strip(), row['question2'].split(\" \")))    \n",
        "        return 1.0 * (len(w1) + len(w2))\n",
        "data['word_Total'] = data.apply(normalized_word_Total, axis=1)\n",
        "\n",
        "def normalized_word_share(row):\n",
        "        w1 = set(map(lambda word: word.lower().strip(), row['question1'].split(\" \")))\n",
        "        w2 = set(map(lambda word: word.lower().strip(), row['question2'].split(\" \")))    \n",
        "        return 1.0 * len(w1 & w2)/(len(w1) + len(w2))\n",
        "data['word_share'] = data.apply(normalized_word_share, axis=1)\n",
        "\n",
        "data['freq_q1+q2'] = data['freq_qid1']+data['freq_qid2']\n",
        "data['freq_q1-q2'] = abs(data['freq_qid1']-data['freq_qid2'])\n",
        "data.head()    "
      ],
      "metadata": {
        "id": "2ONzRqPSoFCh",
        "colab": {
          "base_uri": "https://localhost:8080/",
          "height": 510
        },
        "outputId": "aaab9f77-7dfa-45f7-9f39-ac430dc71168"
      },
      "execution_count": null,
      "outputs": [
        {
          "output_type": "execute_result",
          "data": {
            "text/plain": [
              "   id  qid1  qid2                                          question1  \\\n",
              "0   0     1     2  What is the step by step guide to invest in sh...   \n",
              "1   1     3     4  What is the story of Kohinoor (Koh-i-Noor) Dia...   \n",
              "2   2     5     6  How can I increase the speed of my internet co...   \n",
              "3   3     7     8  Why am I mentally very lonely? How can I solve...   \n",
              "4   4     9    10  Which one dissolve in water quikly sugar, salt...   \n",
              "\n",
              "                                           question2  is_duplicate  freq_qid1  \\\n",
              "0  What is the step by step guide to invest in sh...             0          1   \n",
              "1  What would happen if the Indian government sto...             0          4   \n",
              "2  How can Internet speed be increased by hacking...             0          1   \n",
              "3  Find the remainder when [math]23^{24}[/math] i...             0          1   \n",
              "4            Which fish would survive in salt water?             0          3   \n",
              "\n",
              "   freq_qid2  q1len  q2len  q1_n_words  q2_n_words  word_Common  word_Total  \\\n",
              "0          1     66     57          14          12         10.0        23.0   \n",
              "1          1     51     88           8          13          4.0        20.0   \n",
              "2          1     73     59          14          10          4.0        24.0   \n",
              "3          1     50     65          11           9          0.0        19.0   \n",
              "4          1     76     39          13           7          2.0        20.0   \n",
              "\n",
              "   word_share  freq_q1+q2  freq_q1-q2  \n",
              "0    0.434783           2           0  \n",
              "1    0.200000           5           3  \n",
              "2    0.166667           2           0  \n",
              "3    0.000000           2           0  \n",
              "4    0.100000           4           2  "
            ],
            "text/html": [
              "\n",
              "  <div id=\"df-23c1df15-b1d1-4a84-94ad-5827b309ef0e\">\n",
              "    <div class=\"colab-df-container\">\n",
              "      <div>\n",
              "<style scoped>\n",
              "    .dataframe tbody tr th:only-of-type {\n",
              "        vertical-align: middle;\n",
              "    }\n",
              "\n",
              "    .dataframe tbody tr th {\n",
              "        vertical-align: top;\n",
              "    }\n",
              "\n",
              "    .dataframe thead th {\n",
              "        text-align: right;\n",
              "    }\n",
              "</style>\n",
              "<table border=\"1\" class=\"dataframe\">\n",
              "  <thead>\n",
              "    <tr style=\"text-align: right;\">\n",
              "      <th></th>\n",
              "      <th>id</th>\n",
              "      <th>qid1</th>\n",
              "      <th>qid2</th>\n",
              "      <th>question1</th>\n",
              "      <th>question2</th>\n",
              "      <th>is_duplicate</th>\n",
              "      <th>freq_qid1</th>\n",
              "      <th>freq_qid2</th>\n",
              "      <th>q1len</th>\n",
              "      <th>q2len</th>\n",
              "      <th>q1_n_words</th>\n",
              "      <th>q2_n_words</th>\n",
              "      <th>word_Common</th>\n",
              "      <th>word_Total</th>\n",
              "      <th>word_share</th>\n",
              "      <th>freq_q1+q2</th>\n",
              "      <th>freq_q1-q2</th>\n",
              "    </tr>\n",
              "  </thead>\n",
              "  <tbody>\n",
              "    <tr>\n",
              "      <th>0</th>\n",
              "      <td>0</td>\n",
              "      <td>1</td>\n",
              "      <td>2</td>\n",
              "      <td>What is the step by step guide to invest in sh...</td>\n",
              "      <td>What is the step by step guide to invest in sh...</td>\n",
              "      <td>0</td>\n",
              "      <td>1</td>\n",
              "      <td>1</td>\n",
              "      <td>66</td>\n",
              "      <td>57</td>\n",
              "      <td>14</td>\n",
              "      <td>12</td>\n",
              "      <td>10.0</td>\n",
              "      <td>23.0</td>\n",
              "      <td>0.434783</td>\n",
              "      <td>2</td>\n",
              "      <td>0</td>\n",
              "    </tr>\n",
              "    <tr>\n",
              "      <th>1</th>\n",
              "      <td>1</td>\n",
              "      <td>3</td>\n",
              "      <td>4</td>\n",
              "      <td>What is the story of Kohinoor (Koh-i-Noor) Dia...</td>\n",
              "      <td>What would happen if the Indian government sto...</td>\n",
              "      <td>0</td>\n",
              "      <td>4</td>\n",
              "      <td>1</td>\n",
              "      <td>51</td>\n",
              "      <td>88</td>\n",
              "      <td>8</td>\n",
              "      <td>13</td>\n",
              "      <td>4.0</td>\n",
              "      <td>20.0</td>\n",
              "      <td>0.200000</td>\n",
              "      <td>5</td>\n",
              "      <td>3</td>\n",
              "    </tr>\n",
              "    <tr>\n",
              "      <th>2</th>\n",
              "      <td>2</td>\n",
              "      <td>5</td>\n",
              "      <td>6</td>\n",
              "      <td>How can I increase the speed of my internet co...</td>\n",
              "      <td>How can Internet speed be increased by hacking...</td>\n",
              "      <td>0</td>\n",
              "      <td>1</td>\n",
              "      <td>1</td>\n",
              "      <td>73</td>\n",
              "      <td>59</td>\n",
              "      <td>14</td>\n",
              "      <td>10</td>\n",
              "      <td>4.0</td>\n",
              "      <td>24.0</td>\n",
              "      <td>0.166667</td>\n",
              "      <td>2</td>\n",
              "      <td>0</td>\n",
              "    </tr>\n",
              "    <tr>\n",
              "      <th>3</th>\n",
              "      <td>3</td>\n",
              "      <td>7</td>\n",
              "      <td>8</td>\n",
              "      <td>Why am I mentally very lonely? How can I solve...</td>\n",
              "      <td>Find the remainder when [math]23^{24}[/math] i...</td>\n",
              "      <td>0</td>\n",
              "      <td>1</td>\n",
              "      <td>1</td>\n",
              "      <td>50</td>\n",
              "      <td>65</td>\n",
              "      <td>11</td>\n",
              "      <td>9</td>\n",
              "      <td>0.0</td>\n",
              "      <td>19.0</td>\n",
              "      <td>0.000000</td>\n",
              "      <td>2</td>\n",
              "      <td>0</td>\n",
              "    </tr>\n",
              "    <tr>\n",
              "      <th>4</th>\n",
              "      <td>4</td>\n",
              "      <td>9</td>\n",
              "      <td>10</td>\n",
              "      <td>Which one dissolve in water quikly sugar, salt...</td>\n",
              "      <td>Which fish would survive in salt water?</td>\n",
              "      <td>0</td>\n",
              "      <td>3</td>\n",
              "      <td>1</td>\n",
              "      <td>76</td>\n",
              "      <td>39</td>\n",
              "      <td>13</td>\n",
              "      <td>7</td>\n",
              "      <td>2.0</td>\n",
              "      <td>20.0</td>\n",
              "      <td>0.100000</td>\n",
              "      <td>4</td>\n",
              "      <td>2</td>\n",
              "    </tr>\n",
              "  </tbody>\n",
              "</table>\n",
              "</div>\n",
              "      <button class=\"colab-df-convert\" onclick=\"convertToInteractive('df-23c1df15-b1d1-4a84-94ad-5827b309ef0e')\"\n",
              "              title=\"Convert this dataframe to an interactive table.\"\n",
              "              style=\"display:none;\">\n",
              "        \n",
              "  <svg xmlns=\"http://www.w3.org/2000/svg\" height=\"24px\"viewBox=\"0 0 24 24\"\n",
              "       width=\"24px\">\n",
              "    <path d=\"M0 0h24v24H0V0z\" fill=\"none\"/>\n",
              "    <path d=\"M18.56 5.44l.94 2.06.94-2.06 2.06-.94-2.06-.94-.94-2.06-.94 2.06-2.06.94zm-11 1L8.5 8.5l.94-2.06 2.06-.94-2.06-.94L8.5 2.5l-.94 2.06-2.06.94zm10 10l.94 2.06.94-2.06 2.06-.94-2.06-.94-.94-2.06-.94 2.06-2.06.94z\"/><path d=\"M17.41 7.96l-1.37-1.37c-.4-.4-.92-.59-1.43-.59-.52 0-1.04.2-1.43.59L10.3 9.45l-7.72 7.72c-.78.78-.78 2.05 0 2.83L4 21.41c.39.39.9.59 1.41.59.51 0 1.02-.2 1.41-.59l7.78-7.78 2.81-2.81c.8-.78.8-2.07 0-2.86zM5.41 20L4 18.59l7.72-7.72 1.47 1.35L5.41 20z\"/>\n",
              "  </svg>\n",
              "      </button>\n",
              "      \n",
              "  <style>\n",
              "    .colab-df-container {\n",
              "      display:flex;\n",
              "      flex-wrap:wrap;\n",
              "      gap: 12px;\n",
              "    }\n",
              "\n",
              "    .colab-df-convert {\n",
              "      background-color: #E8F0FE;\n",
              "      border: none;\n",
              "      border-radius: 50%;\n",
              "      cursor: pointer;\n",
              "      display: none;\n",
              "      fill: #1967D2;\n",
              "      height: 32px;\n",
              "      padding: 0 0 0 0;\n",
              "      width: 32px;\n",
              "    }\n",
              "\n",
              "    .colab-df-convert:hover {\n",
              "      background-color: #E2EBFA;\n",
              "      box-shadow: 0px 1px 2px rgba(60, 64, 67, 0.3), 0px 1px 3px 1px rgba(60, 64, 67, 0.15);\n",
              "      fill: #174EA6;\n",
              "    }\n",
              "\n",
              "    [theme=dark] .colab-df-convert {\n",
              "      background-color: #3B4455;\n",
              "      fill: #D2E3FC;\n",
              "    }\n",
              "\n",
              "    [theme=dark] .colab-df-convert:hover {\n",
              "      background-color: #434B5C;\n",
              "      box-shadow: 0px 1px 3px 1px rgba(0, 0, 0, 0.15);\n",
              "      filter: drop-shadow(0px 1px 2px rgba(0, 0, 0, 0.3));\n",
              "      fill: #FFFFFF;\n",
              "    }\n",
              "  </style>\n",
              "\n",
              "      <script>\n",
              "        const buttonEl =\n",
              "          document.querySelector('#df-23c1df15-b1d1-4a84-94ad-5827b309ef0e button.colab-df-convert');\n",
              "        buttonEl.style.display =\n",
              "          google.colab.kernel.accessAllowed ? 'block' : 'none';\n",
              "\n",
              "        async function convertToInteractive(key) {\n",
              "          const element = document.querySelector('#df-23c1df15-b1d1-4a84-94ad-5827b309ef0e');\n",
              "          const dataTable =\n",
              "            await google.colab.kernel.invokeFunction('convertToInteractive',\n",
              "                                                     [key], {});\n",
              "          if (!dataTable) return;\n",
              "\n",
              "          const docLinkHtml = 'Like what you see? Visit the ' +\n",
              "            '<a target=\"_blank\" href=https://colab.research.google.com/notebooks/data_table.ipynb>data table notebook</a>'\n",
              "            + ' to learn more about interactive tables.';\n",
              "          element.innerHTML = '';\n",
              "          dataTable['output_type'] = 'display_data';\n",
              "          await google.colab.output.renderOutput(dataTable, element);\n",
              "          const docLink = document.createElement('div');\n",
              "          docLink.innerHTML = docLinkHtml;\n",
              "          element.appendChild(docLink);\n",
              "        }\n",
              "      </script>\n",
              "    </div>\n",
              "  </div>\n",
              "  "
            ]
          },
          "metadata": {},
          "execution_count": 16
        }
      ]
    },
    {
      "cell_type": "code",
      "source": [
        "import numpy as np\n",
        "question1=np.array(question1)"
      ],
      "metadata": {
        "id": "UV7GI9rJFozC"
      },
      "execution_count": null,
      "outputs": []
    },
    {
      "cell_type": "code",
      "source": [
        "question2=np.array(question2)"
      ],
      "metadata": {
        "id": "idL3MM-apIjl"
      },
      "execution_count": null,
      "outputs": []
    },
    {
      "cell_type": "code",
      "source": [
        "import re\n",
        "\n",
        "\n",
        "regex = re.compile('[^a-zA-Z\" \"]')\n",
        "empty=[\"\"]"
      ],
      "metadata": {
        "id": "CnXslVmqJze6"
      },
      "execution_count": null,
      "outputs": []
    },
    {
      "cell_type": "code",
      "source": [
        "words1=[]\n",
        "words2=[]\n",
        "s1=[]\n",
        "s2=[]\n",
        "t1=[]\n",
        "t2=[]\n",
        "cwc=[]\n",
        "csc=[]\n",
        "ctc=[]\n",
        "\n",
        "nltk.download('punkt')\n",
        "from nltk.stem import PorterStemmer\n",
        "ps = PorterStemmer()\n",
        "for i in range(question1.shape[0]):\n",
        "    \n",
        "    question1[i]=regex.sub('',question1[i])\n",
        "    \n",
        "    question2[i]=regex.sub('',question2[i])\n",
        "    \n",
        "    tmp1=question1[i].lower().split(\" \")\n",
        "    tmp2=question2[i].lower().split(\" \")\n",
        "    #tmp1=word_tokenize(question1[i])\n",
        "    #tmp2=word_tokenize(question2[i])\n",
        "    ww1 = set([w for w in tmp1 if w not in stop_words])\n",
        "    ww2 = set([w for w in tmp2 if w not in stop_words])\n",
        "    stop1 = set([w for w in tmp1 if w  in stop_words])\n",
        "    stop2 = set([w for w in tmp2 if w  in stop_words])\n",
        "    ww1 = set([w for w in ww1 if w not in empty])\n",
        "    ww2 = set([w for w in ww2 if w not in empty])\n",
        "    w1=[]\n",
        "    w2=[]\n",
        "    for w in ww1:\n",
        "      \n",
        "      w=ps.stem(w)\n",
        "      w1.append(w)\n",
        "    for w in ww2:\n",
        "      \n",
        "      w=ps.stem(w)\n",
        "      w2.append(w)\n",
        "    ww1=set(w1)\n",
        "    ww2=set(w2)\n",
        "    common_word_count = len(ww1.intersection(ww2))\n",
        "    \n",
        "    # Get the common stopwords from Question pair\n",
        "    common_stop_count = len(stop1.intersection(stop2))\n",
        "    \n",
        "    # Get the common Tokens from Question pair\n",
        "    common_token_count = len(set(tmp1).intersection(set(tmp2)))  \n",
        "    words1.append(ww1)\n",
        "    words2.append(ww2)\n",
        "    s1.append(stop1)\n",
        "    s2.append(stop2)\n",
        "    t1.append(tmp1)\n",
        "    t2.append(tmp2)  \n",
        "    cwc.append(common_word_count)\n",
        "    csc.append(common_stop_count)\n",
        "    ctc.append(common_token_count)\n",
        "  \n",
        "               "
      ],
      "metadata": {
        "id": "w-Gj2gf9GnTy",
        "colab": {
          "base_uri": "https://localhost:8080/"
        },
        "outputId": "e11cd038-388c-44b6-f9ba-fc5636ce8c53"
      },
      "execution_count": null,
      "outputs": [
        {
          "output_type": "stream",
          "name": "stdout",
          "text": [
            "[nltk_data] Downloading package punkt to /root/nltk_data...\n",
            "[nltk_data]   Unzipping tokenizers/punkt.zip.\n"
          ]
        }
      ]
    },
    {
      "cell_type": "code",
      "source": [
        "delete=[]\n",
        "for i in range(len(words1)):\n",
        "  if len(\" \".join(words2[i]))<2 or len(\" \".join(words1[i]))<2:\n",
        "    delete.append(i)\n",
        "  \n",
        "words1=np.delete(words1,delete)\n",
        "words2=np.delete(words2,delete)\n",
        "s1=np.delete(s1,delete)\n",
        "s2=np.delete(s2,delete)\n",
        "t1=np.delete(t1,delete)\n",
        "t2=np.delete(t2,delete)\n",
        "data.drop(delete,inplace=True) "
      ],
      "metadata": {
        "id": "llytYmP34KGN",
        "colab": {
          "base_uri": "https://localhost:8080/"
        },
        "outputId": "e7ec7fc0-d21e-4da0-e438-63a917926c5a"
      },
      "execution_count": null,
      "outputs": [
        {
          "output_type": "stream",
          "name": "stderr",
          "text": [
            "/usr/local/lib/python3.7/dist-packages/numpy/lib/function_base.py:4454: VisibleDeprecationWarning: Creating an ndarray from ragged nested sequences (which is a list-or-tuple of lists-or-tuples-or ndarrays with different lengths or shapes) is deprecated. If you meant to do this, you must specify 'dtype=object' when creating the ndarray.\n",
            "  arr = asarray(arr)\n"
          ]
        }
      ]
    },
    {
      "cell_type": "code",
      "source": [
        "lwe=[]\n",
        "fwe=[]\n",
        "diff=[]\n",
        "mean=[]\n",
        "cwc_min=[]\n",
        "cwc_max=[]\n",
        "csc_min=[]\n",
        "csc_max=[]\n",
        "ctc_min=[]\n",
        "ctc_max=[]\n",
        "\n",
        "for i in range(len(t1)):\n",
        "  lwe.append(int(t1[i][-1] == t2[i][-1]))\n",
        "  fwe.append(int(t1[i][0] == t2[i][0]))\n",
        "  diff.append(abs(len(t1[i]) - len(t2[i])))\n",
        "  mean.append((len(t1[i]) + len(t2[i]))/2)\n",
        "  cwc_min.append(cwc[i] / (min(len(words1[i]), len(words2[i]))))\n",
        "  cwc_max.append(cwc[i] / (max(len(words1[i]), len(words2[i]))))\n",
        "  csc_min.append(csc[i] / (min(len(s1[i]), len(s2[i]))+1))\n",
        "  csc_max.append(csc[i] / (max(len(s1[i]), len(s2[i]))+1))\n",
        "  ctc_min.append(ctc[i] / (min(len(t1[i]), len(t2[i]))+1))\n",
        "  ctc_max.append(ctc[i] / (max(len(t1[i]), len(t2[i]))+1))\n",
        "  \n"
      ],
      "metadata": {
        "id": "_bP9b_5i7jG3"
      },
      "execution_count": null,
      "outputs": []
    },
    {
      "cell_type": "code",
      "source": [
        "data['cwc_min'] = cwc_min\n",
        "data['cwc_max'] = cwc_max\n",
        "data['csc_min'] = csc_min\n",
        "data['csc_max'] = csc_max\n",
        "data['ctc_min'] = ctc_min\n",
        "data['ctc_max'] = ctc_max\n",
        "# Last word of both question is same or not\n",
        "data[\"last_word_eq\"] = lwe\n",
        "# First word of both question is same or not\n",
        "data[\"first_word_eq\"] = fwe\n",
        "data[\"abs_len_diff\"] = diff\n",
        "#Average Token Length of both Questions\n",
        "data[\"mean_len\"] = mean\n"
      ],
      "metadata": {
        "id": "FNUD9UfDu-Ea"
      },
      "execution_count": null,
      "outputs": []
    },
    {
      "cell_type": "code",
      "source": [
        "words1=np.array(words1)\n",
        "words2=np.array(words2)"
      ],
      "metadata": {
        "id": "KFiZV9uEb9Rt"
      },
      "execution_count": null,
      "outputs": []
    },
    {
      "cell_type": "code",
      "source": [
        "data['words1']=words1\n",
        "data['words2']=words2\n",
        "data['stops1']=s1\n",
        "data['stops2']=s2\n",
        "data['Tokens1']=t1\n",
        "data['Tokens2']=t2"
      ],
      "metadata": {
        "id": "YkvRWYihLdD6"
      },
      "execution_count": null,
      "outputs": []
    },
    {
      "cell_type": "code",
      "source": [
        "data = data.dropna(how=\"any\").reset_index(drop=True)"
      ],
      "metadata": {
        "id": "hqSebvDOVzjU"
      },
      "execution_count": null,
      "outputs": []
    },
    {
      "cell_type": "code",
      "source": [
        "words1=data['words1']\n",
        "words2=data['words2']\n",
        "s1=data['stops1']\n",
        "s2=data['stops2']\n",
        "t1=data['Tokens1']\n",
        "t2=data['Tokens2']\n",
        "words1=np.array(words1)\n",
        "words2=np.array(words2)\n",
        "s1=np.array(s1)\n",
        "s2=np.array(s2)\n",
        "t1=np.array(t1)\n",
        "t2=np.array(t2)"
      ],
      "metadata": {
        "id": "P-jz2_5pV9tA"
      },
      "execution_count": null,
      "outputs": []
    },
    {
      "cell_type": "code",
      "source": [
        "from sklearn.feature_extraction.text import TfidfVectorizer\n",
        "\n",
        "vector=[]\n",
        "\n",
        "import warnings \n",
        "warnings.filterwarnings(action = 'ignore')\n",
        "from sklearn.feature_extraction.text import CountVectorizer\n",
        "for i in range(words1.shape[0]):\n",
        "  \n",
        "  try:\n",
        "      \n",
        "      corpus=[\" \".join(words1[i]),\" \".join(words2[i])]\n",
        "      cv=TfidfVectorizer()\n",
        "      x=cv.fit_transform(corpus)\n",
        "      \n",
        "  except:\n",
        "    print(i) \n",
        "  vector.append(pd.DataFrame(x.toarray(),columns=cv.get_feature_names()))"
      ],
      "metadata": {
        "id": "X4hWpAnpKLD5"
      },
      "execution_count": null,
      "outputs": []
    },
    {
      "cell_type": "code",
      "source": [
        "f_vec=[]\n",
        "s_vec=[]"
      ],
      "metadata": {
        "id": "upVGOnZyXxCc"
      },
      "execution_count": null,
      "outputs": []
    },
    {
      "cell_type": "code",
      "source": [
        "for i in range (len(vector)):\n",
        "  f_vec.append(vector[i].iloc[0])\n",
        "  s_vec.append(vector[i].iloc[1])"
      ],
      "metadata": {
        "id": "LJebbunOX0IH"
      },
      "execution_count": null,
      "outputs": []
    },
    {
      "cell_type": "code",
      "source": [
        "print(s_vec[0])\n",
        "print(f_vec[0])"
      ],
      "metadata": {
        "colab": {
          "base_uri": "https://localhost:8080/"
        },
        "id": "ZX4AQ-kfKow1",
        "outputId": "692504b4-1b1c-4218-ce6b-ea5756046574"
      },
      "execution_count": null,
      "outputs": [
        {
          "output_type": "stream",
          "name": "stdout",
          "text": [
            "guid      0.447214\n",
            "india     0.000000\n",
            "invest    0.447214\n",
            "market    0.447214\n",
            "share     0.447214\n",
            "step      0.447214\n",
            "Name: 1, dtype: float64\n",
            "guid      0.378632\n",
            "india     0.532154\n",
            "invest    0.378632\n",
            "market    0.378632\n",
            "share     0.378632\n",
            "step      0.378632\n",
            "Name: 0, dtype: float64\n"
          ]
        }
      ]
    },
    {
      "cell_type": "code",
      "source": [
        "data['tf idf1']=f_vec\n",
        "data['tf idf2']=s_vec"
      ],
      "metadata": {
        "id": "YWh2s6ThMUzi"
      },
      "execution_count": null,
      "outputs": []
    },
    {
      "cell_type": "code",
      "source": [
        "from numpy import dot\n",
        "from numpy.linalg import norm\n",
        "similar=[]\n",
        "\n",
        "for i in range(len(f_vec)):\n",
        "\n",
        "   result = dot(f_vec[i],s_vec[i])/(norm(f_vec[i])*norm(s_vec[i]))\n",
        "   similar.append(result)\n",
        "   \n"
      ],
      "metadata": {
        "id": "ZZqII1gQ-oHu"
      },
      "execution_count": null,
      "outputs": []
    },
    {
      "cell_type": "code",
      "source": [
        "data['Cosine_similarity']=similar\n"
      ],
      "metadata": {
        "id": "aT9AtPmjA9fy"
      },
      "execution_count": null,
      "outputs": []
    },
    {
      "cell_type": "code",
      "source": [
        "data.columns"
      ],
      "metadata": {
        "id": "cHhRmEoHd4LB",
        "colab": {
          "base_uri": "https://localhost:8080/"
        },
        "outputId": "79e4b394-efd6-4cba-e360-86b5bc505ef8"
      },
      "execution_count": null,
      "outputs": [
        {
          "output_type": "execute_result",
          "data": {
            "text/plain": [
              "Index(['id', 'qid1', 'qid2', 'question1', 'question2', 'is_duplicate',\n",
              "       'freq_qid1', 'freq_qid2', 'q1len', 'q2len', 'q1_n_words', 'q2_n_words',\n",
              "       'word_Common', 'word_Total', 'word_share', 'freq_q1+q2', 'freq_q1-q2',\n",
              "       'cwc_min', 'cwc_max', 'csc_min', 'csc_max', 'ctc_min', 'ctc_max',\n",
              "       'last_word_eq', 'first_word_eq', 'abs_len_diff', 'mean_len', 'words1',\n",
              "       'words2', 'stops1', 'stops2', 'Tokens1', 'Tokens2', 'tf idf1',\n",
              "       'tf idf2', 'Cosine_similarity'],\n",
              "      dtype='object')"
            ]
          },
          "metadata": {},
          "execution_count": 35
        }
      ]
    },
    {
      "cell_type": "code",
      "source": [
        "data = data.dropna(how=\"any\").reset_index(drop=True)"
      ],
      "metadata": {
        "id": "Vb4ryxNTeWvn"
      },
      "execution_count": null,
      "outputs": []
    },
    {
      "cell_type": "code",
      "source": [
        "features=[ \n",
        "        \n",
        "       'freq_qid1', 'freq_qid2', 'q1len', 'q2len', 'q1_n_words', 'q2_n_words',\n",
        "       'word_Common', 'word_Total', 'word_share', 'freq_q1+q2', 'freq_q1-q2',\n",
        "       'cwc_min', 'cwc_max', 'csc_min', 'csc_max', 'ctc_min', 'ctc_max',\n",
        "       'last_word_eq', 'first_word_eq', 'abs_len_diff', 'mean_len','Cosine_similarity']"
      ],
      "metadata": {
        "id": "27RTBETzBQco"
      },
      "execution_count": null,
      "outputs": []
    },
    {
      "cell_type": "code",
      "source": [
        "\n",
        "x=data[features]\n",
        "Y=data['is_duplicate']"
      ],
      "metadata": {
        "id": "61LKhcrAjXCS"
      },
      "execution_count": null,
      "outputs": []
    },
    {
      "cell_type": "code",
      "source": [
        "X_train, X_test, y_train, y_test = train_test_split(\n",
        "...     x, Y,shuffle=True)"
      ],
      "metadata": {
        "id": "j1COYLHrCzwI"
      },
      "execution_count": null,
      "outputs": []
    },
    {
      "cell_type": "code",
      "source": [
        "from sklearn.svm import LinearSVC\n",
        "from sklearn.svm import SVC\n",
        "import pickle\n",
        "y_train=np.array(y_train)\n",
        "y_test=np.array(y_test)\n",
        "X_train=np.array(X_train)\n",
        "X_test=np.array(X_test)\n",
        "# X_train=X_train.reshape(X_train.shape[0],1)\n",
        "# y_train=y_train.reshape(y_train.shape[0],1)\n",
        "# X_test=X_test.reshape(X_test.shape[0],1)\n",
        "# y_test=y_test.reshape(y_test.shape[0],1)\n",
        "# Cls = SVC(kernel='linear', C=0.8)\n",
        "# Cls.fit(X_train,y_train)\n",
        "# predction1=Cls.predict(X_train)\n",
        "# print ('SVM Training accuracy')\n",
        "# print(metrics.accuracy_score(predction1,y_train))\n",
        "# predction2=Cls.predict(X_test)\n",
        "# print('SVM Testing accuracy')\n",
        "# print(metrics.accuracy_score(predction2,y_test))"
      ],
      "metadata": {
        "id": "3azrr08MC7f3"
      },
      "execution_count": null,
      "outputs": []
    },
    {
      "cell_type": "code",
      "source": [
        "XG=XGBClassifier(n_estimators=35,max_depth=12)\n",
        "XG.fit(X_train,y_train)"
      ],
      "metadata": {
        "colab": {
          "base_uri": "https://localhost:8080/"
        },
        "id": "0av335pMES3X",
        "outputId": "70c4a3a5-82b7-4a32-a381-493a2a0a5e8c"
      },
      "execution_count": null,
      "outputs": [
        {
          "output_type": "execute_result",
          "data": {
            "text/plain": [
              "XGBClassifier(max_depth=12, n_estimators=35)"
            ]
          },
          "metadata": {},
          "execution_count": 41
        }
      ]
    },
    {
      "cell_type": "code",
      "source": [
        "predction1=XG.predict(X_train)\n",
        "print('XGBoost Training accuracy')\n",
        "print(metrics.accuracy_score(predction1,y_train))\n",
        "print('XGBoost Testing accracy')\n",
        "predction2=XG.predict(X_test)\n",
        "print(metrics.accuracy_score(predction2,y_test))"
      ],
      "metadata": {
        "colab": {
          "base_uri": "https://localhost:8080/"
        },
        "id": "9LyQzXDoEgH9",
        "outputId": "3a9176ed-65b5-4683-933b-654a8d7e34ec"
      },
      "execution_count": null,
      "outputs": [
        {
          "output_type": "stream",
          "name": "stdout",
          "text": [
            "XGBoost Training accuracy\n",
            "0.8461815181518152\n",
            "XGBoost Testing accracy\n",
            "0.8207146463896398\n"
          ]
        }
      ]
    },
    {
      "cell_type": "code",
      "source": [
        "from sklearn.ensemble import RandomForestClassifier\n",
        "RF =RandomForestClassifier(n_estimators = 35,max_depth=12)\n",
        "RF.fit(X_train,y_train)\n",
        "predction1=RF.predict(X_train)\n",
        "print('Random Forest Training accuracy')\n",
        "print(metrics.accuracy_score(predction1,y_train))\n",
        "predction2=RF.predict(X_test)\n",
        "print('Random Forest testing accuracy')\n",
        "print(metrics.accuracy_score(predction2,y_test))"
      ],
      "metadata": {
        "colab": {
          "base_uri": "https://localhost:8080/"
        },
        "id": "aPNd3gTfTOVq",
        "outputId": "cc3efc79-3282-4946-8287-155814801316"
      },
      "execution_count": null,
      "outputs": [
        {
          "output_type": "stream",
          "name": "stdout",
          "text": [
            "Random Forest Training accuracy\n",
            "0.8287986798679868\n",
            "Random Forest testing accuracy\n",
            "0.8160513262244928\n"
          ]
        }
      ]
    },
    {
      "cell_type": "code",
      "source": [
        "DT = DecisionTreeClassifier(random_state=0,max_depth=12)\n",
        "DT.fit(X_train,y_train)\n",
        "predction1=DT.predict(X_train)\n",
        "print('Decision Tree Training accuracy')\n",
        "print(metrics.accuracy_score(predction1,y_train))\n",
        "predction2=DT.predict(X_test)\n",
        "print('Decision Tree testing accuracy')\n",
        "print(metrics.accuracy_score(predction2,y_test))"
      ],
      "metadata": {
        "id": "XAnKOzmpGAba",
        "colab": {
          "base_uri": "https://localhost:8080/"
        },
        "outputId": "5ee2b645-0e13-4a62-c991-c4234227d213"
      },
      "execution_count": null,
      "outputs": [
        {
          "output_type": "stream",
          "name": "stdout",
          "text": [
            "Decision Tree Training accuracy\n",
            "0.8263927392739274\n",
            "Decision Tree testing accuracy\n",
            "0.8106850427223493\n"
          ]
        }
      ]
    },
    {
      "cell_type": "code",
      "source": [
        "LR=LogisticRegression(random_state=0).fit(X_train, y_train)\n",
        "predction1=LR.predict(X_train)\n",
        "print('Logistic Regression  Training accuracy')\n",
        "print(metrics.accuracy_score(predction1,y_train))\n",
        "predction2=LR.predict(X_test)\n",
        "print('Logistic Regression testing accuracy')\n",
        "print(metrics.accuracy_score(predction2,y_test))\n"
      ],
      "metadata": {
        "id": "nkQOD9dhJFz5",
        "colab": {
          "base_uri": "https://localhost:8080/"
        },
        "outputId": "3e831f5f-3421-409e-cd5f-572263a5cf5a"
      },
      "execution_count": null,
      "outputs": [
        {
          "output_type": "stream",
          "name": "stdout",
          "text": [
            "Logistic Regression  Training accuracy\n",
            "0.7695940594059406\n",
            "Logistic Regression testing accuracy\n",
            "0.7710022673042841\n"
          ]
        }
      ]
    },
    {
      "cell_type": "code",
      "source": [
        "NB = GaussianNB()\n",
        "NB.fit(X_train, y_train)\n",
        "predction1=NB.predict(X_train)\n",
        "print('Naive Bayes Training accuracy')\n",
        "print(metrics.accuracy_score(predction1,y_train))\n",
        "predction2=NB.predict(X_test)\n",
        "print('Naive Bayes testing accuracy')\n",
        "print(metrics.accuracy_score(predction2,y_test))\n"
      ],
      "metadata": {
        "id": "nVmZn-W1ybu3",
        "colab": {
          "base_uri": "https://localhost:8080/"
        },
        "outputId": "b0e196d2-ede9-436c-ce92-2c06ceecb9a8"
      },
      "execution_count": null,
      "outputs": [
        {
          "output_type": "stream",
          "name": "stdout",
          "text": [
            "Naive Bayes Training accuracy\n",
            "0.7281584158415841\n",
            "Naive Bayes testing accuracy\n",
            "0.7295967366659736\n"
          ]
        }
      ]
    },
    {
      "cell_type": "code",
      "source": [
        "\n"
      ],
      "metadata": {
        "id": "Gk0mYTxPou3_"
      },
      "execution_count": null,
      "outputs": []
    },
    {
      "cell_type": "code",
      "source": [
        "predction_xg=XG.predict(X_test)\n",
        "predction_dt=DT.predict(X_test)\n",
        "predction_nb=NB.predict(X_test)\n",
        "predction_lr=LR.predict(X_test)\n",
        "predction_rf=RF.predict(X_test)"
      ],
      "metadata": {
        "id": "5PXWF7VvxCFN"
      },
      "execution_count": null,
      "outputs": []
    },
    {
      "cell_type": "code",
      "source": [
        "xg_acc=metrics.accuracy_score(predction_xg,y_test)\n",
        "dt_acc=metrics.accuracy_score(predction_dt,y_test)\n",
        "nb_acc=metrics.accuracy_score(predction_nb,y_test)\n",
        "lr_acc=metrics.accuracy_score(predction_lr,y_test)\n",
        "rf_acc=metrics.accuracy_score(predction_rf,y_test)"
      ],
      "metadata": {
        "id": "S-59L3b3yu1s"
      },
      "execution_count": null,
      "outputs": []
    },
    {
      "cell_type": "code",
      "source": [
        "\n",
        "#Dict={'svm':svm_acc,'XGBoost':xg_acc,'Decision Tree':dt_acc,'Naive Bayes':nb_acc,'Logistic Regression':lr_acc}\n",
        "models=['Random Forest','XGBoost','Decision Tree','Naive Bayes','Logistic Regression']\n",
        "Accuracies=[rf_acc,xg_acc,dt_acc,nb_acc,lr_acc]"
      ],
      "metadata": {
        "id": "QPZCecxRzQY7"
      },
      "execution_count": null,
      "outputs": []
    },
    {
      "cell_type": "code",
      "source": [
        "fig = plt.figure(figsize = (7, 5))\n",
        " \n",
        "# creating the bar plot\n",
        "plt.bar(models, Accuracies, color ='blue',\n",
        "        width = 0.5)\n",
        " \n",
        "plt.xlabel(\"Model name\")\n",
        "plt.ylabel('Acuuracy')\n",
        "plt.title(\"Model Comparison\")\n",
        "plt.show()"
      ],
      "metadata": {
        "colab": {
          "base_uri": "https://localhost:8080/",
          "height": 350
        },
        "id": "OGtsJcnXz9vn",
        "outputId": "7feb2b5c-26d6-4b89-8409-b458d49c6d4b"
      },
      "execution_count": null,
      "outputs": [
        {
          "output_type": "display_data",
          "data": {
            "text/plain": [
              "<Figure size 504x360 with 1 Axes>"
            ],
            "image/png": "[encoded data removed]"
          },
          "metadata": {
            "needs_background": "light"
          }
        }
      ]
    },
    {
      "cell_type": "code",
      "source": [
        "data.to_csv('Quora questions')"
      ],
      "metadata": {
        "id": "q4WXwIZr3vyb"
      },
      "execution_count": null,
      "outputs": []
    }
  ]
}